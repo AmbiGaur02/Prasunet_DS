{
 "cells": [
  {
   "cell_type": "markdown",
   "metadata": {},
   "source": [
    "# TASK -01\n",
    "## Create a bar chart or histogram to visualize the distribution of a categorical or continuous variable, such as the distribution of ages or genders in a population.\n",
    "#### So as to have a deep understanding of todays's task let's dive into the basic concept first. \n",
    "#### <i> What are categorical and continuous variable? </i>\n",
    "#### To begin with we have three types of data or variables available with us in statistics. They are:\n",
    "#### * Categorical data \n",
    "#### * Continuous data\n",
    "#### * Discrete data\n",
    "\n",
    "## Categorical data\n",
    "#### Categorical variables are the one that contains finite number of categories or groups in which the data can be divided. They might or might not posses any logical order. On the basis of this, they are further divided into:\n",
    "##### <i> * Ordinal\n",
    "#### * Nominal \n",
    "### Ordinal: \n",
    "#### These are the types of categorical variables that represents categories or group with a specific order or ranking where the order of the categories is meaningful.\n",
    "### Nominal\n",
    "#### These are the types of categorical variables that represents categories without any in-built or meaningful order.\n",
    "\n",
    "## Discrete variables\n",
    "#### Discrete Variables are numeric in nature. They are countable variables that can take over a finite number of numeriv values.\n",
    "\n",
    "## Continuous Variable\n",
    "#### Continuous variables are also numeric variables that can take over infinite number of values between a specified range.\n",
    "\n"
   ]
  },
  {
   "cell_type": "markdown",
   "metadata": {},
   "source": [
    "## Example World population Dataset"
   ]
  },
  {
   "cell_type": "code",
   "execution_count": null,
   "metadata": {},
   "outputs": [],
   "source": [
    "import pandas as pd\n",
    "import matplotlib.pyplot as plt"
   ]
  },
  {
   "cell_type": "code",
   "execution_count": null,
   "metadata": {},
   "outputs": [],
   "source": [
    "dt = pd.read_csv(\"/Users/ambigaur/Desktop/Ambi_coding/python/Prasunet_DS/World_population(1955-2023).csv\")\n",
    "dt.sample(7)"
   ]
  },
  {
   "cell_type": "code",
   "execution_count": null,
   "metadata": {},
   "outputs": [],
   "source": [
    "print(dt.dtypes)"
   ]
  },
  {
   "cell_type": "markdown",
   "metadata": {},
   "source": [
    "#### Here currently Population, Yearly% change and Yearly change has been stored as objects rather than numeric data and we know that bar chart works on numeric data only. Hence we will first change them into numeric data and then plot them. To convert them into numeric data we use <b> <i>to_numeric </i> </b> funtion of pandas library\n",
    "\n",
    "#### <b><i>NOTE</i></b> : One thing that we need to keep in mind is, before using the to_numeric function we have to make sure there are no potential issues that might come in the way of conversion. For example what happened here is we have to remove the commas and '%; operator in order to convert the objects to numericals. If not removed, then during conversion they might look at it as non-standard numeric format and nullify the data."
   ]
  },
  {
   "cell_type": "code",
   "execution_count": null,
   "metadata": {},
   "outputs": [],
   "source": [
    "dt['Population'] = dt['Population'].str.replace(',', '')\n",
    "dt['Yearly Change'] = dt['Yearly Change'].str.replace(',', '')\n",
    "dt['Yearly Change'] = dt['Yearly Change'].str.replace('%', '')\n",
    "\n",
    "\n",
    "dt['Population']= pd.to_numeric(dt['Population'], errors='coerce')\n",
    "dt['Yearly % Change'] = pd.to_numeric(dt['Yearly % Change'].str.strip('%'), errors='coerce')\n",
    "dt['Yearly Change'] = pd.to_numeric(dt['Yearly Change'], errors='coerce')"
   ]
  },
  {
   "cell_type": "code",
   "execution_count": null,
   "metadata": {},
   "outputs": [],
   "source": [
    "dt.sample(5)"
   ]
  },
  {
   "cell_type": "code",
   "execution_count": null,
   "metadata": {},
   "outputs": [],
   "source": [
    "print(dt.dtypes)"
   ]
  },
  {
   "cell_type": "markdown",
   "metadata": {},
   "source": [
    "## Year Vs Median Age"
   ]
  },
  {
   "cell_type": "code",
   "execution_count": null,
   "metadata": {},
   "outputs": [],
   "source": [
    "col_selected = dt[['Median Age', 'Year (July 1)']]\n",
    "col_selected.set_index('Year (July 1)', inplace= True)\n",
    "col_selected.plot(kind= 'bar', figsize=(10,6))\n",
    "plt.title(\"world Population\")\n",
    "plt.ylabel(\"Year\")\n",
    "plt.xlabel(\"Median Age\")\n",
    "plt.show()"
   ]
  },
  {
   "cell_type": "markdown",
   "metadata": {},
   "source": [
    "## Year Vs Population"
   ]
  },
  {
   "cell_type": "code",
   "execution_count": null,
   "metadata": {},
   "outputs": [],
   "source": [
    "col_selected = dt[['Population', 'Year (July 1)']]\n",
    "col_selected.set_index('Year (July 1)', inplace= True)\n",
    "col_selected.plot(kind= 'bar', figsize=(10,6))\n",
    "plt.title(\"world Population\")\n",
    "plt.xlabel(\"Year\")\n",
    "plt.ylabel(\"Population\")\n",
    "plt.show()"
   ]
  },
  {
   "cell_type": "markdown",
   "metadata": {},
   "source": [
    "## Year Vs Yearly change"
   ]
  },
  {
   "cell_type": "code",
   "execution_count": null,
   "metadata": {},
   "outputs": [],
   "source": [
    "col_selected = dt[['Yearly Change', 'Year (July 1)']]\n",
    "col_selected.set_index('Year (July 1)', inplace= True)\n",
    "col_selected.plot(kind= 'bar', figsize=(10,6))\n",
    "plt.title(\"world Population\")\n",
    "plt.xlabel(\"Year\")\n",
    "plt.ylabel(\"Yearly Change\")\n",
    "plt.show()"
   ]
  },
  {
   "cell_type": "markdown",
   "metadata": {},
   "source": []
  }
 ],
 "metadata": {
  "kernelspec": {
   "display_name": "Python 3",
   "language": "python",
   "name": "python3"
  },
  "language_info": {
   "codemirror_mode": {
    "name": "ipython",
    "version": 3
   },
   "file_extension": ".py",
   "mimetype": "text/x-python",
   "name": "python",
   "nbconvert_exporter": "python",
   "pygments_lexer": "ipython3",
   "version": "3.11.5"
  }
 },
 "nbformat": 4,
 "nbformat_minor": 2
}
